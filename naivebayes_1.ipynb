{
 "cells": [
  {
   "cell_type": "code",
   "execution_count": 2,
   "id": "f668ea8b-9a1e-42be-bb8a-c644d8d1f286",
   "metadata": {},
   "outputs": [
    {
     "name": "stdout",
     "output_type": "stream",
     "text": [
      "Index(['review', 'label'], dtype='object')\n",
      "Nama kolom: Index(['review', 'label'], dtype='object')\n",
      "                                              review  label\n",
      "0            Not bad sih, tapi banyak lecet di body.      0\n",
      "1      Udah komplain tapi malah disuruh sabar terus.      0\n",
      "2      Overall puas, cuma agak kecewa sama kurirnya.      1\n",
      "3       Pakai sebentar langsung mati, sayang banget.      0\n",
      "4  Sudah dicoba, berfungsi baik walau instruksi k...      1\n",
      "Akurasi: 95.83%\n",
      "\n",
      "Classification Report:\n",
      "              precision    recall  f1-score   support\n",
      "\n",
      "     Negatif       1.00      0.92      0.96        63\n",
      "     Positif       0.92      1.00      0.96        57\n",
      "\n",
      "    accuracy                           0.96       120\n",
      "   macro avg       0.96      0.96      0.96       120\n",
      "weighted avg       0.96      0.96      0.96       120\n",
      "\n",
      "Confusion Matrix:\n",
      "[[58  5]\n",
      " [ 0 57]]\n"
     ]
    },
    {
     "data": {
      "image/png": "[encoded data removed]",
      "text/plain": [
       "<Figure size 600x500 with 2 Axes>"
      ]
     },
     "metadata": {},
     "output_type": "display_data"
    }
   ],
   "source": [
    "# 1. Import Library\n",
    "import pandas as pd\n",
    "import numpy as np\n",
    "import re\n",
    "from sklearn.feature_extraction.text import TfidfVectorizer\n",
    "from sklearn.model_selection import train_test_split\n",
    "from sklearn.naive_bayes import MultinomialNB\n",
    "from sklearn.metrics import accuracy_score, classification_report, confusion_matrix\n",
    "import matplotlib.pyplot as plt\n",
    "import seaborn as sns\n",
    "\n",
    "import pandas as pd\n",
    "\n",
    "# Load dataset\n",
    "df = pd.read_csv(r\"C:/Users/HP CAMO/Downloads/review_penjualan_online_realistis_biner.csv\")\n",
    "\n",
    "# Lihat nama kolom\n",
    "print(df.columns)  # pastikan nama kolomnya benar, seperti 'review' dan 'label'\n",
    "\n",
    "# Pisahkan fitur dan label\n",
    "X = df['review'].values     # ← perhatikan huruf kecil\n",
    "y = df['label'].values\n",
    "\n",
    "\n",
    "\n",
    "X_train_raw, X_test_raw, y_train, y_test = train_test_split(X, y, test_size=0.4, random_state=42)\n",
    "\n",
    "# 4. Preprocessing Function\n",
    "def clean_text(text):\n",
    "    text = text.lower()\n",
    "    text = re.sub(r'[^a-zA-Z\\s]', '', text)\n",
    "    text = re.sub(r'\\s+', ' ', text).strip()\n",
    "    return text\n",
    "\n",
    "X_train_clean = [clean_text(text) for text in X_train_raw]\n",
    "X_test_clean = [clean_text(text) for text in X_test_raw]\n",
    "\n",
    "# 3. Tampilkan nama kolom dan data awal\n",
    "print(\"Nama kolom:\", df.columns)\n",
    "print(df.head())\n",
    "\n",
    "# 5. TF-IDF Vectorization\n",
    "vectorizer = TfidfVectorizer()\n",
    "X_train_vec = vectorizer.fit_transform(X_train_clean)\n",
    "X_test_vec = vectorizer.transform(X_test_clean)\n",
    "\n",
    "# 6. Train Model Naive Bayes\n",
    "model = MultinomialNB()\n",
    "model.fit(X_train_vec, y_train)\n",
    "\n",
    "# 7. Prediksi\n",
    "y_pred = model.predict(X_test_vec)\n",
    "\n",
    "# 8. Evaluasi\n",
    "acc = accuracy_score(y_test, y_pred)\n",
    "print(f\"Akurasi: {acc*100:.2f}%\\n\")\n",
    "\n",
    "print(\"Classification Report:\")\n",
    "print(classification_report(y_test, y_pred, target_names=['Negatif', 'Positif']))\n",
    "\n",
    "cm = confusion_matrix(y_test, y_pred)\n",
    "print(\"Confusion Matrix:\")\n",
    "print(cm)\n",
    "\n",
    "# 9. Plot Confusion Matrix\n",
    "plt.figure(figsize=(6,5))\n",
    "sns.heatmap(cm, annot=True, fmt='d', cmap='Blues', xticklabels=['Negatif','Positif'], yticklabels=['Negatif','Positif'])\n",
    "plt.xlabel('Predicted')\n",
    "plt.ylabel('Actual')\n",
    "plt.title('Confusion Matrix')\n",
    "plt.show()"
   ]
  },
  {
   "cell_type": "code",
   "execution_count": null,
   "id": "11fcabb0-14be-41e2-ae63-6c0a68f55a7c",
   "metadata": {},
   "outputs": [],
   "source": []
  }
 ],
 "metadata": {
  "kernelspec": {
   "display_name": "Python 3 (ipykernel)",
   "language": "python",
   "name": "python3"
  },
  "language_info": {
   "codemirror_mode": {
    "name": "ipython",
    "version": 3
   },
   "file_extension": ".py",
   "mimetype": "text/x-python",
   "name": "python",
   "nbconvert_exporter": "python",
   "pygments_lexer": "ipython3",
   "version": "3.12.10"
  }
 },
 "nbformat": 4,
 "nbformat_minor": 5
}
